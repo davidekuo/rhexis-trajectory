{
 "nbformat": 4,
 "nbformat_minor": 0,
 "metadata": {
  "colab": {
   "name": "Detectron2_Rhexis_Inference.ipynb",
   "provenance": [],
   "collapsed_sections": [],
   "authorship_tag": "ABX9TyPk/PeWiOF/Lbi0zU1PIFz0"
  },
  "kernelspec": {
   "name": "python3",
   "display_name": "Python 3"
  },
  "language_info": {
   "name": "python"
  }
 },
 "cells": [
  {
   "cell_type": "markdown",
   "source": [
    "### Install dependencies and import all needed modules"
   ],
   "metadata": {
    "id": "VkN5yoWfjB5c"
   }
  },
  {
   "cell_type": "code",
   "source": [
    "# Uninstall CoLab version of pytorch and install detectron2 compatiable version\n",
    "!pip uninstall torch torchvision torchtext torchaudio -y\n",
    "!pip install torch==1.10.1 torchvision==0.11.2 torchaudio==0.10.1\n",
    "\n",
    "# Install pyyaml (version 5.1)\n",
    "!pip install pyyaml==5.1\n",
    "\n",
    "# Import torch\n",
    "import torch\n",
    "\n",
    "TORCH_VERSION = \".\".join(torch.__version__.split(\".\")[:2])\n",
    "CUDA_VERSION = torch.__version__.split(\"+\")[-1]\n",
    "\n",
    "# Ensure detectron2 instalation matches pytorch version\n",
    "!pip install detectron2 -f https://dl.fbaipublicfiles.com/detectron2/wheels/$CUDA_VERSION/torch$TORCH_VERSION/index.html"
   ],
   "metadata": {
    "id": "tmEzYwt1iDws"
   },
   "execution_count": null,
   "outputs": []
  },
  {
   "cell_type": "markdown",
   "source": [
    "⚠️  **Attention:** After the installation of detectron2 in the above cell, **you may need to restart the runtime in Colab**. You can do this by selecting `Runtime > Restart Runtime` from the task bar, or by running the command `exit(0)`\n",
    "\n",
    "\n",
    "After restarting the runtime, you will need to rerun the above cells. You should only have to do this once.\n",
    "\n",
    "\n",
    "Once detectron has been successfully installed, you can continue to the next cells.\n"
   ],
   "metadata": {
    "id": "WVH-P_INjMNl"
   }
  },
  {
   "cell_type": "code",
   "source": [
    "# Mount Google Drive to access files\n",
    "from google.colab import drive\n",
    "\n",
    "drive.mount(\"/content/drive\")"
   ],
   "metadata": {
    "id": "cyMRFkDviDl3"
   },
   "execution_count": null,
   "outputs": []
  },
  {
   "cell_type": "markdown",
   "source": [
    "## Model Selection\n",
    "Select the model you would like to use to train"
   ],
   "metadata": {
    "id": "kuq1X0mMjStm"
   }
  },
  {
   "cell_type": "code",
   "source": [
    "# Use the following strings to select the model you want to work with:\n",
    "# Resnet50: \"keypoint_rcnn_R_50_FPN_3x\"\n",
    "# Resnet101: \"keypoint_rcnn_R_101_FPN_3x\"\n",
    "# Resnext101: \"keypoint_rcnn_X_101_32x8d_FPN_3x\"\n",
    "\n",
    "model_string = \"keypoint_rcnn_X_101_32x8d_FPN_3x\""
   ],
   "metadata": {
    "id": "q8IGirwEiDaT"
   },
   "execution_count": null,
   "outputs": []
  },
  {
   "cell_type": "code",
   "source": [
    "REPO_LOC = \"/content/drive/MyDrive/Trajectories/rhexis-trajectory\"\n",
    "DATASET_LOC = \"/content/drive/MyDrive/Trajectories/datasets/Dataset_1000\"\n",
    "OUTPUT_LOC = \"/content/drive/MyDrive/Trajectories/checkpoints/\" + model_string\n",
    "\n",
    "assert REPO_LOC is not None, \"Must specify a repository location\"\n",
    "assert DATASET_LOC is not None, \"Must specify a dataset location\"\n",
    "assert OUTPUT_LOC is not None, \"Must specify a output location\"\n",
    "\n",
    "# Create the OUTPUT_LOC directory if it does not exist\n",
    "import os\n",
    "\n",
    "if not os.path.isdir(OUTPUT_LOC):\n",
    "    os.makedirs(OUTPUT_LOC)"
   ],
   "metadata": {
    "id": "MPLuJAMqiDOm"
   },
   "execution_count": null,
   "outputs": []
  },
  {
   "cell_type": "code",
   "source": [
    "# Import detectron2\n",
    "import detectron2\n",
    "from detectron2.utils.logger import setup_logger\n",
    "\n",
    "# Set up detectron2 logger\n",
    "setup_logger()\n",
    "\n",
    "# Import common libraries\n",
    "import numpy as np\n",
    "import os, json, cv2, random\n",
    "from google.colab.patches import cv2_imshow\n",
    "\n",
    "# Import detectron2 utilities\n",
    "from detectron2 import model_zoo\n",
    "from detectron2.engine import DefaultPredictor\n",
    "from detectron2.config import get_cfg\n",
    "from detectron2.utils.visualizer import Visualizer\n",
    "from detectron2.data import MetadataCatalog, DatasetCatalog\n",
    "\n",
    "# Import custom utility functions\n",
    "import sys\n",
    "\n",
    "sys.path.insert(0, f\"{REPO_LOC}/Keypoint_Detection\")\n",
    "import utils"
   ],
   "metadata": {
    "id": "USSMBYLJiwnk"
   },
   "execution_count": null,
   "outputs": []
  },
  {
   "cell_type": "markdown",
   "source": [
    "#Run frame-by-frame inference on test video using best model checkpoint:"
   ],
   "metadata": {
    "id": "Q20yeZhdiRNp"
   }
  },
  {
   "cell_type": "code",
   "source": [
    "# Run frame-by-frame inference demo on video with demo.py\" in the Detectron2 repo.\n",
    "# Note: in tutorial, panoptic segmentation of 5 second video took 3-4 minutes to run\n",
    "!git clone https://github.com/facebookresearch/detectron2\n",
    "\n",
    "# Initialize parameters for detectron2/demo/demo.py\n",
    "\n",
    "# --config-file\n",
    "# Save cfg as config.yaml in cfg.OUTPUT_DIR\n",
    "with open(f\"{cfg.OUTPUT_DIR}/config.yaml\", \"w\") as writer:\n",
    "    writer.write(cfg.dump())\n",
    "config_file = f\"{cfg.OUTPUT_DIR}/config.yaml\"\n",
    "print(\"config_file: \", config_file, \"\\n\")\n",
    "\n",
    "# --video-input\n",
    "# test video = DATASET_LOC/Cataract_Coach7_5s.mp4\n",
    "test_video = DATASET_LOC + \"/video.mp4\"\n",
    "print(\"test_video: \", test_video, \"\\n\")\n",
    "\n",
    "# --output\n",
    "# Save to OUTPUT_LOC for now\n",
    "video_output = OUTPUT_LOC + \"/output.mp4\"\n",
    "print(\"video_output: \", video_output, \"\\n\")\n",
    "\n",
    "# --opts MODEL.WEIGHTS\n",
    "# Assume for now that the best X101 model checkpoint trained with data augmentation on dataset 1000 is the overall best model checkpoint\n",
    "# Will copy X101_dataset1000_no_augment_iter3499_best_model.pth to cfg.OUTPUT_DIR\n",
    "best_model = \"X101_dataset1000_no_augment_iter3499_best_model.pth\"\n",
    "!cp $OUTPUT_LOC/$best_model $cfg.OUTPUT_DIR\n",
    "print(\"Contents of cfg.OUTPUT_DIR: \")\n",
    "!ls $cfg.OUTPUT_DIR\n",
    "\n",
    "best_model_weights = cfg.OUTPUT_DIR + \"/\" + best_model\n",
    "print(\"best_model_weights: \", best_model_weights, \"\\n\")"
   ],
   "metadata": {
    "id": "enee0e4riDAw"
   },
   "execution_count": null,
   "outputs": []
  },
  {
   "cell_type": "code",
   "execution_count": null,
   "metadata": {
    "id": "XbAPJ0snh4eH"
   },
   "outputs": [],
   "source": [
    "# Run inference\n",
    "# Note: this is currently BROKEN for x264 codec but ok for mp4. See https://github.com/facebookresearch/detectron2/issues/2901 for workaround.\n",
    "\n",
    "!python detectron2/demo/demo.py --config-file $config_file --video-input $test_video --confidence-threshold 0.95 --output $video_output --opts MODEL.WEIGHTS $best_model_weights"
   ]
  }
 ]
}