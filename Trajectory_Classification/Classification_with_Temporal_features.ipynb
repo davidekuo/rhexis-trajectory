{
 "nbformat": 4,
 "nbformat_minor": 0,
 "metadata": {
  "colab": {
   "name": "Classification_with_Temporal_features.ipynb",
   "provenance": [],
   "collapsed_sections": [],
   "private_outputs": true
  },
  "kernelspec": {
   "name": "python3",
   "display_name": "Python 3"
  },
  "language_info": {
   "name": "python"
  }
 },
 "cells": [
  {
   "cell_type": "code",
   "execution_count": null,
   "metadata": {
    "id": "MsL1KUUCSzlf"
   },
   "outputs": [],
   "source": [
    "# Mount Google Drive\n",
    "from google.colab import drive\n",
    "\n",
    "drive.mount(\"/content/drive\")"
   ]
  },
  {
   "cell_type": "code",
   "source": [
    "DATA_LOC = \"/content/drive/MyDrive/Rhexis/datasets/test_pulls\"\n",
    "REPO_LOC = \"/content/drive/MyDrive/Projects/rhexis-trajectory\""
   ],
   "metadata": {
    "id": "-lZiH4M0vpO3"
   },
   "execution_count": null,
   "outputs": []
  },
  {
   "cell_type": "code",
   "source": [
    "# Import libraries\n",
    "import pandas as pd\n",
    "import matplotlib.pyplot as plt\n",
    "import numpy as np\n",
    "import os\n",
    "import sys\n",
    "\n",
    "sys.path.insert(0, f\"{REPO_LOC}/Trajectory_Classification\")\n",
    "from utils import *\n",
    "\n",
    "%load_ext autoreload\n",
    "%autoreload 2"
   ],
   "metadata": {
    "id": "b7isWtABS9py"
   },
   "execution_count": null,
   "outputs": []
  },
  {
   "cell_type": "markdown",
   "source": [
    "## Logistic Regression"
   ],
   "metadata": {
    "id": "QBqziOzIs-KY"
   }
  },
  {
   "cell_type": "code",
   "source": [
    "from sklearn.linear_model import LogisticRegression\n",
    "\n",
    "clf = LogisticRegression(random_state=0, max_iter=1000)\n",
    "param_grid = {\n",
    "    \"pca__n_components\": list(range(3, 20)),\n",
    "}\n",
    "bin_grid = list(range(5, 25))\n",
    "results = grid_search_with_bins(make_custom_pipeline(clf, True), param_grid, bin_grid)"
   ],
   "metadata": {
    "id": "7wLpaAUeh7t0"
   },
   "execution_count": null,
   "outputs": []
  },
  {
   "cell_type": "code",
   "source": [
    "results[\"best_score\"]"
   ],
   "metadata": {
    "id": "hTYkofNqs41z"
   },
   "execution_count": null,
   "outputs": []
  },
  {
   "cell_type": "code",
   "source": [
    "results[\"best_params\"]"
   ],
   "metadata": {
    "id": "wV6tPIaC2xD9"
   },
   "execution_count": null,
   "outputs": []
  },
  {
   "cell_type": "code",
   "source": [
    "results[\"best_search\"].score(results[\"X_test\"], results[\"y_test\"])"
   ],
   "metadata": {
    "id": "KhUQtmT0pf6q"
   },
   "execution_count": null,
   "outputs": []
  },
  {
   "cell_type": "markdown",
   "source": [
    "## Quadratic Gaussian Discriminant Analysis"
   ],
   "metadata": {
    "id": "ixKSM6GvuRVT"
   }
  },
  {
   "cell_type": "code",
   "source": [
    "from sklearn.discriminant_analysis import QuadraticDiscriminantAnalysis\n",
    "\n",
    "clf = QuadraticDiscriminantAnalysis()\n",
    "param_grid = {\n",
    "    \"pca__n_components\": list(range(3, 20)),\n",
    "    \"quadraticdiscriminantanalysis__reg_param\": [\n",
    "        1e-6,\n",
    "        1e-3,\n",
    "        1e-2,\n",
    "        1e-1,\n",
    "        2e-1,\n",
    "        3e-1,\n",
    "        4e-1,\n",
    "        5e-1,\n",
    "    ],\n",
    "}\n",
    "bin_grid = list(range(5, 25))\n",
    "results = grid_search_with_bins(clf, param_grid, bin_grid)"
   ],
   "metadata": {
    "id": "sFG_snlTSTp_"
   },
   "execution_count": null,
   "outputs": []
  },
  {
   "cell_type": "code",
   "source": [
    "results[\"best_score\"]"
   ],
   "metadata": {
    "id": "tIpUKHB3xMiL"
   },
   "execution_count": null,
   "outputs": []
  },
  {
   "cell_type": "code",
   "source": [
    "results[\"best_params\"]"
   ],
   "metadata": {
    "id": "4ArSEEEx1m-a"
   },
   "execution_count": null,
   "outputs": []
  },
  {
   "cell_type": "code",
   "source": [
    "results[\"best_search\"].score(results[\"X_test\"], results[\"y_test\"])"
   ],
   "metadata": {
    "id": "aCVdtQo_xODV"
   },
   "execution_count": null,
   "outputs": []
  },
  {
   "cell_type": "markdown",
   "source": [
    "## Multi-Layer Perceptron"
   ],
   "metadata": {
    "id": "GLCn-Hup0FcP"
   }
  },
  {
   "cell_type": "markdown",
   "source": [
    "From above experiments, we are sure that 21 bins is the optimal amount, and do not need to grid search over that parameter any further."
   ],
   "metadata": {
    "id": "1QvdKPrZ4bRW"
   }
  },
  {
   "cell_type": "code",
   "source": [
    "from sklearn.neural_network import MLPClassifier\n",
    "\n",
    "X_train, X_test, y_train, y_test = get_data_for_fixed_bins(21)\n",
    "\n",
    "clf = MLPClassifier(\n",
    "    solver=\"adam\", alpha=1e-5, hidden_layer_sizes=(1000, 1000, 1000), random_state=1\n",
    ")\n",
    "param_grid = {\n",
    "    \"pca__n_components\": list(range(10, 15)),\n",
    "    \"mlpclassifier__learning_rate_init\": [1e-9, 1e-6, 1e-3, 1e-2, 1e-1],\n",
    "}\n",
    "search = grid_search(clf, param_grid, X_train, y_train)"
   ],
   "metadata": {
    "id": "0qphQ0thyLyT"
   },
   "execution_count": null,
   "outputs": []
  },
  {
   "cell_type": "code",
   "source": [
    "search.best_score_"
   ],
   "metadata": {
    "id": "az4xGSHC0zcX"
   },
   "execution_count": null,
   "outputs": []
  },
  {
   "cell_type": "code",
   "source": [
    "search.best_params_"
   ],
   "metadata": {
    "id": "flP2yc7U6Z32"
   },
   "execution_count": null,
   "outputs": []
  },
  {
   "cell_type": "code",
   "source": [
    "search.score(X_test, y_test)"
   ],
   "metadata": {
    "id": "oD-LqHnh6fqD"
   },
   "execution_count": null,
   "outputs": []
  }
 ]
}