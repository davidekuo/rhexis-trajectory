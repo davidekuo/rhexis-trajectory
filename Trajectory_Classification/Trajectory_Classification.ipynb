{
 "nbformat": 4,
 "nbformat_minor": 0,
 "metadata": {
  "colab": {
   "name": "Trajectory_Classification.ipynb",
   "provenance": [],
   "collapsed_sections": [
    "mcaOyU_vGGsW",
    "LqeaSOkvGKAk"
   ],
   "private_outputs": true
  },
  "kernelspec": {
   "name": "python3",
   "display_name": "Python 3"
  },
  "language_info": {
   "name": "python"
  }
 },
 "cells": [
  {
   "cell_type": "code",
   "execution_count": null,
   "metadata": {
    "id": "MsL1KUUCSzlf"
   },
   "outputs": [],
   "source": [
    "# Mount Google Drive\n",
    "from google.colab import drive\n",
    "\n",
    "drive.mount(\"/content/drive\")\n",
    "%load_ext autoreload\n",
    "%autoreload 2"
   ]
  },
  {
   "cell_type": "code",
   "source": [
    "REPO_LOC = \"/content/drive/MyDrive/Projects/rhexis-trajectory\""
   ],
   "metadata": {
    "id": "yIJDT1utbGfA"
   },
   "execution_count": null,
   "outputs": []
  },
  {
   "cell_type": "code",
   "source": [
    "# Import libraries\n",
    "import pandas as pd\n",
    "import matplotlib.pyplot as plt\n",
    "import numpy as np\n",
    "import os\n",
    "import sys\n",
    "\n",
    "sys.path.insert(0, f\"{REPO_LOC}/Trajectory_Classification\")\n",
    "from utils import *\n",
    "\n",
    "%load_ext autoreload\n",
    "%autoreload 2"
   ],
   "metadata": {
    "id": "b7isWtABS9py"
   },
   "execution_count": null,
   "outputs": []
  },
  {
   "cell_type": "markdown",
   "source": [
    "# Exploratory Visualization"
   ],
   "metadata": {
    "id": "TDCZCXG8GBpP"
   }
  },
  {
   "cell_type": "code",
   "source": [
    "X, y = get_pupil_std_data_traj((100, 100), False)\n",
    "for i, m in enumerate(X):\n",
    "    plt.figure()\n",
    "    plt.imshow(m)\n",
    "    # plt.show()\n",
    "    if i == 4:\n",
    "        plt.savefig(\"TrajectoryPaths.svg\", format=\"svg\", dpi=1200)"
   ],
   "metadata": {
    "id": "RTEr6JXgnN-9"
   },
   "execution_count": null,
   "outputs": []
  },
  {
   "cell_type": "markdown",
   "source": [
    "## (OLD) Full Trajectories"
   ],
   "metadata": {
    "id": "mcaOyU_vGGsW"
   }
  },
  {
   "cell_type": "code",
   "source": [
    "# Plot PGY2 trajectory\n",
    "for i in range(max(pgy2[\"pull\"]) + 1):\n",
    "    plt.scatter(pgy2[pgy2[\"pull\"] == i][\"x\"], pgy2[pgy2[\"pull\"] == i][\"y\"])"
   ],
   "metadata": {
    "id": "PMa3a9SoTVrK"
   },
   "execution_count": null,
   "outputs": []
  },
  {
   "cell_type": "code",
   "source": [
    "# Plot PGY4 trajectory\n",
    "for i in range(max(pgy4[\"pull\"]) + 1):\n",
    "    plt.scatter(pgy4[pgy4[\"pull\"] == i][\"x\"], pgy4[pgy4[\"pull\"] == i][\"y\"])"
   ],
   "metadata": {
    "id": "zU-9VSbHTWRZ"
   },
   "execution_count": null,
   "outputs": []
  },
  {
   "cell_type": "code",
   "source": [
    "# Plot expert trajectory\n",
    "for i in range(max(expert[\"pull\"]) + 1):\n",
    "    plt.scatter(expert[expert[\"pull\"] == i][\"x\"], expert[expert[\"pull\"] == i][\"y\"])"
   ],
   "metadata": {
    "id": "zySn1gzGTwrX"
   },
   "execution_count": null,
   "outputs": []
  },
  {
   "cell_type": "markdown",
   "source": [
    "## (OLD) Individual Pulls"
   ],
   "metadata": {
    "id": "LqeaSOkvGKAk"
   }
  },
  {
   "cell_type": "code",
   "source": [
    "# Plot all 4 pulls in expert trajectory\n",
    "for i in range(max(expert[\"pull\"]) + 1):\n",
    "    plt.figure()\n",
    "    plt.scatter(expert[expert[\"pull\"] == i][\"x\"], expert[expert[\"pull\"] == i][\"y\"])\n",
    "plt.show()"
   ],
   "metadata": {
    "id": "SrTnXbrNT3XS"
   },
   "execution_count": null,
   "outputs": []
  },
  {
   "cell_type": "code",
   "source": [
    "# Plot all PGY4 trajectories\n",
    "for i in range(max(pgy4[\"pull\"]) + 1):\n",
    "    plt.figure()\n",
    "    plt.scatter(pgy4[pgy4[\"pull\"] == i][\"x\"], pgy4[pgy4[\"pull\"] == i][\"y\"])\n",
    "plt.show()"
   ],
   "metadata": {
    "id": "T8nC1HKYT3zb"
   },
   "execution_count": null,
   "outputs": []
  },
  {
   "cell_type": "code",
   "source": [
    "# Plot all PGY2 trajectories\n",
    "for i in range(max(pgy2[\"pull\"]) + 1):\n",
    "    plt.figure()\n",
    "    plt.scatter(pgy2[pgy2[\"pull\"] == i][\"x\"], pgy2[pgy2[\"pull\"] == i][\"y\"])\n",
    "plt.show()"
   ],
   "metadata": {
    "id": "SxTpTrQZT4I8"
   },
   "execution_count": null,
   "outputs": []
  },
  {
   "cell_type": "code",
   "source": [
    "from sklearn.decomposition import PCA"
   ],
   "metadata": {
    "id": "-HNSuqpSfIh8"
   },
   "execution_count": null,
   "outputs": []
  },
  {
   "cell_type": "code",
   "source": [
    "def pca(n_components):\n",
    "    pca = PCA(n_components=n_components, svd_solver=\"randomized\", whiten=True).fit(\n",
    "        X_train\n",
    "    )"
   ],
   "metadata": {
    "id": "7Rulh_PteiUZ"
   },
   "execution_count": null,
   "outputs": []
  },
  {
   "cell_type": "markdown",
   "source": [
    "# Model Fitting/Prediction"
   ],
   "metadata": {
    "id": "ZMDkYgLpGWMZ"
   }
  },
  {
   "cell_type": "code",
   "source": [
    "X, y = get_pupil_std_data_traj((100, 100), False)"
   ],
   "metadata": {
    "id": "ov9GNoMDH-jq"
   },
   "execution_count": null,
   "outputs": []
  },
  {
   "cell_type": "code",
   "source": [
    "from sklearn.model_selection import StratifiedShuffleSplit\n",
    "\n",
    "# Keep deterministic\n",
    "np.random.seed(40)\n",
    "sss = StratifiedShuffleSplit(1, test_size=0.2)\n",
    "train_ind, test_ind = next(sss.split(X, y))\n",
    "X_train, X_test = X[train_ind], X[test_ind]\n",
    "y_train, y_test = y[train_ind], y[test_ind]\n",
    "# Print to check class balance\n",
    "y_train, y_test"
   ],
   "metadata": {
    "id": "QCmo_9oe1Exx"
   },
   "execution_count": null,
   "outputs": []
  },
  {
   "cell_type": "markdown",
   "source": [
    "## PCA"
   ],
   "metadata": {
    "id": "cPzR5FO1LgQJ"
   }
  },
  {
   "cell_type": "code",
   "source": [
    "def process_for_pca(data):\n",
    "    \"\"\"TODO\"\"\"\n",
    "    return np.reshape(data, (-1, 10000))"
   ],
   "metadata": {
    "id": "3HOHcycXLhW6"
   },
   "execution_count": null,
   "outputs": []
  },
  {
   "cell_type": "code",
   "source": [
    "from sklearn.decomposition import PCA, KernelPCA\n",
    "\n",
    "\n",
    "def pca(data, n_components):\n",
    "    pca = PCA(n_components=n_components, svd_solver=\"randomized\", whiten=True).fit(data)\n",
    "    return pca, pca.components_.reshape((n_components, 100, 100))"
   ],
   "metadata": {
    "id": "fTswPbo9MUiK"
   },
   "execution_count": null,
   "outputs": []
  },
  {
   "cell_type": "code",
   "source": [
    "pca_obj, components = pca(process_for_pca(X_train), 4)\n",
    "# pca_obj.explained_variance_\n",
    "X_train_pca = pca_obj.transform(process_for_pca(X_train))\n",
    "for i in components:\n",
    "    plt.imshow(i)\n",
    "    plt.show()"
   ],
   "metadata": {
    "id": "ImHbs9moO168"
   },
   "execution_count": null,
   "outputs": []
  },
  {
   "cell_type": "code",
   "source": [
    "# components = pca(process_for_pca(X_train), 5)\n",
    "# for i in range(len(components)):\n",
    "#   plt.imshow(components[i])\n",
    "#   plt.show()"
   ],
   "metadata": {
    "id": "uUhrCJ2_Nj0M"
   },
   "execution_count": null,
   "outputs": []
  },
  {
   "cell_type": "markdown",
   "source": [
    "## Logistic Model (Baseline)"
   ],
   "metadata": {
    "id": "TkaP8GMeW1z7"
   }
  },
  {
   "cell_type": "code",
   "source": [
    "from sklearn.linear_model import LogisticRegression\n",
    "\n",
    "clf = LogisticRegression(random_state=0, multi_class=\"multinomial\", max_iter=1000)\n",
    "param_grid = {\n",
    "    \"kernelpca__n_components\": list(range(2, 12)) + [\"None\"],\n",
    "    \"kernelpca__kernel\": [\"linear\", \"poly\", \"rbf\", \"sigmoid\", \"cosine\", \"precomputed\"],\n",
    "}\n",
    "search = grid_search_img(clf, True, param_grid, X_train, y_train)"
   ],
   "metadata": {
    "id": "EWe-kjPPArPa"
   },
   "execution_count": null,
   "outputs": []
  },
  {
   "cell_type": "code",
   "source": [
    "search.best_score_"
   ],
   "metadata": {
    "id": "GSUC-uTjiZZz"
   },
   "execution_count": null,
   "outputs": []
  },
  {
   "cell_type": "code",
   "source": [
    "search.best_params_"
   ],
   "metadata": {
    "id": "mqq1AwQxiut5"
   },
   "execution_count": null,
   "outputs": []
  },
  {
   "cell_type": "code",
   "source": [
    "search.score(X_test, y_test)"
   ],
   "metadata": {
    "id": "Xldr3uhCixWg"
   },
   "execution_count": null,
   "outputs": []
  },
  {
   "cell_type": "markdown",
   "source": [
    "## Quadratic GDA"
   ],
   "metadata": {
    "id": "JzQqqhcqW8ju"
   }
  },
  {
   "cell_type": "markdown",
   "source": [
    "This does not perform well"
   ],
   "metadata": {
    "id": "FOI-KXKXkYrN"
   }
  },
  {
   "cell_type": "code",
   "source": [
    "from sklearn.discriminant_analysis import QuadraticDiscriminantAnalysis\n",
    "\n",
    "clf = QuadraticDiscriminantAnalysis()\n",
    "param_grid = {\n",
    "    \"kernelpca__n_components\": list(range(2, 12)) + [\"None\"],\n",
    "    \"kernelpca__kernel\": [\"linear\", \"poly\", \"rbf\", \"sigmoid\", \"cosine\", \"precomputed\"],\n",
    "    \"quadraticdiscriminantanalysis__reg_param\": [\n",
    "        1e-6,\n",
    "        1e-3,\n",
    "        1e-2,\n",
    "        1e-1,\n",
    "        2e-1,\n",
    "        3e-1,\n",
    "        4e-1,\n",
    "        5e-1,\n",
    "    ],\n",
    "}\n",
    "search = grid_search_img(clf, True, param_grid, X_train, y_train)"
   ],
   "metadata": {
    "id": "v5sQCJ7DilBN"
   },
   "execution_count": null,
   "outputs": []
  },
  {
   "cell_type": "code",
   "source": [
    "search.best_score_"
   ],
   "metadata": {
    "id": "MZ56WNjHlaN3"
   },
   "execution_count": null,
   "outputs": []
  },
  {
   "cell_type": "code",
   "source": [
    "search.best_params_"
   ],
   "metadata": {
    "id": "xocddRbjlfUt"
   },
   "execution_count": null,
   "outputs": []
  },
  {
   "cell_type": "code",
   "source": [
    "search.score(X_test, y_test)"
   ],
   "metadata": {
    "id": "gDLnaPu8lj4o"
   },
   "execution_count": null,
   "outputs": []
  },
  {
   "cell_type": "markdown",
   "source": [
    "## Neural Network"
   ],
   "metadata": {
    "id": "OVROZL0dunOl"
   }
  },
  {
   "cell_type": "code",
   "source": [
    "from sklearn.neural_network import MLPClassifier\n",
    "\n",
    "clf = MLPClassifier(\n",
    "    solver=\"adam\", alpha=1e-5, hidden_layer_sizes=(1000, 100, 100), random_state=1\n",
    ")\n",
    "param_grid = {\n",
    "    \"kernelpca__n_components\": list(range(2, 12)) + [\"None\"],\n",
    "    \"kernelpca__kernel\": [\"linear\", \"poly\", \"rbf\", \"sigmoid\", \"cosine\", \"precomputed\"],\n",
    "    \"mlpclassifier__learning_rate_init\": [1e-9, 1e-6, 1e-3, 1e-2, 1e-1],\n",
    "}\n",
    "search = grid_search_img(clf, True, param_grid, X_train, y_train)"
   ],
   "metadata": {
    "id": "JCg2zevkmiI_"
   },
   "execution_count": null,
   "outputs": []
  },
  {
   "cell_type": "code",
   "source": [
    "search.best_score_"
   ],
   "metadata": {
    "id": "CzEiktjpmFWS"
   },
   "execution_count": null,
   "outputs": []
  },
  {
   "cell_type": "code",
   "source": [
    "search.best_params_"
   ],
   "metadata": {
    "id": "fKshn7X2mGrt"
   },
   "execution_count": null,
   "outputs": []
  },
  {
   "cell_type": "code",
   "source": [
    "search.score(X_test, y_test)"
   ],
   "metadata": {
    "id": "vB9I8naEmIB4"
   },
   "execution_count": null,
   "outputs": []
  },
  {
   "cell_type": "markdown",
   "source": [
    "## Unsupervised clustering"
   ],
   "metadata": {
    "id": "RF-2jz4vkcaW"
   }
  },
  {
   "cell_type": "code",
   "source": [
    "from sklearn.cluster import MiniBatchKMeans\n",
    "from sklearn.metrics import accuracy_score\n",
    "\n",
    "BATCH_SIZE = 3\n",
    "kmeans = MiniBatchKMeans(n_clusters=3, random_state=0, batch_size=BATCH_SIZE)\n",
    "for i in range(0, len(X_train), BATCH_SIZE):\n",
    "    kmeans.partial_fit(X_train[i : i + BATCH_SIZE])\n",
    "\n",
    "y_pred = kmeans.predict(X_test)\n",
    "accuracy_score(y_test, y_pred)"
   ],
   "metadata": {
    "id": "SNYmvMvTkftr"
   },
   "execution_count": null,
   "outputs": []
  }
 ]
}