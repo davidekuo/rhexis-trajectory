{
 "nbformat": 4,
 "nbformat_minor": 0,
 "metadata": {
  "colab": {
   "name": "Feature_Extraction_Dev.ipynb",
   "provenance": [],
   "collapsed_sections": [],
   "private_outputs": true,
   "authorship_tag": "ABX9TyOCa/b+Jk5TSKwHs26cetoc"
  },
  "kernelspec": {
   "name": "python3",
   "display_name": "Python 3"
  },
  "language_info": {
   "name": "python"
  }
 },
 "cells": [
  {
   "cell_type": "code",
   "execution_count": null,
   "metadata": {
    "id": "m24yB0wX9p5P"
   },
   "outputs": [],
   "source": [
    "from google.colab import drive\n",
    "\n",
    "drive.mount(\"/content/drive\")\n",
    "\n",
    "%load_ext autoreload\n",
    "%autoreload 2"
   ]
  },
  {
   "cell_type": "code",
   "source": [
    "REPO_LOC = \"/content/drive/MyDrive/Trajectories/rhexis-trajectory\"\n",
    "# DATA_LOC = \"/content/drive/MyDrive/Trajectories/datasets/Dataset_1000\"\n",
    "DATA_LOC = \"/content/drive/MyDrive/Rhexis/datasets/test_pulls\""
   ],
   "metadata": {
    "id": "MT2UOE6UAVcK"
   },
   "execution_count": null,
   "outputs": []
  },
  {
   "cell_type": "code",
   "source": [
    "import sys\n",
    "\n",
    "sys.path.insert(0, f\"{REPO_LOC}/Feature_Extraction\")\n",
    "sys.path.insert(0, f\"{REPO_LOC}/Semantic_Segmentation\")"
   ],
   "metadata": {
    "id": "OTUdSfsYAonP"
   },
   "execution_count": null,
   "outputs": []
  },
  {
   "cell_type": "code",
   "source": [
    "import label_feature_extraction as lfe\n",
    "import segmentation_access_functions as saf"
   ],
   "metadata": {
    "id": "lploxM2W--nT"
   },
   "execution_count": null,
   "outputs": []
  },
  {
   "cell_type": "code",
   "source": [
    "# get pixel labels\n",
    "label_dict = saf.get_labels(task=2)\n",
    "\n",
    "# print label options\n",
    "for item in label_dict.items():\n",
    "    print(f\"{item[0]} : {item[1]}\")"
   ],
   "metadata": {
    "id": "wu1TAMQ5Bgdp"
   },
   "execution_count": null,
   "outputs": []
  },
  {
   "cell_type": "code",
   "source": [
    "# Read in an image file and a label file\n",
    "# Some examples:\n",
    "# CataractCoach8_23\n",
    "# CataractCoach8_490\n",
    "# CataractCoach8_308\n",
    "file_substring = \"CataractCoach1_59\"\n",
    "subdir_names = [\"CataractCoach1_0_63\"]\n",
    "\n",
    "image = saf.get_image_from_image_filename(\n",
    "    file_substring, DATA_LOC, subdir_names, use_image_dir=False\n",
    ")\n",
    "label = saf.get_label_from_image_filename(\n",
    "    file_substring, DATA_LOC, subdir_names, use_image_dir=False\n",
    ")"
   ],
   "metadata": {
    "id": "FmD_uCJbCNbF"
   },
   "execution_count": null,
   "outputs": []
  },
  {
   "cell_type": "code",
   "source": [
    "from google.colab.patches import cv2_imshow\n",
    "\n",
    "cv2_imshow(image)\n",
    "cv2_imshow(label * 10)"
   ],
   "metadata": {
    "id": "gt6rqf0OCroO"
   },
   "execution_count": null,
   "outputs": []
  },
  {
   "cell_type": "markdown",
   "source": [
    "# Median Pupil Position"
   ],
   "metadata": {
    "id": "V1We4yoRoDNE"
   }
  },
  {
   "cell_type": "code",
   "source": [
    "import cv2\n",
    "import numpy as np\n",
    "\n",
    "pos = lfe.extract_pupil_median_pos(label, label_dict)\n",
    "\n",
    "lfe.display_dot_on_pos(label, pos)"
   ],
   "metadata": {
    "id": "K8p76aMni2tj"
   },
   "execution_count": null,
   "outputs": []
  },
  {
   "cell_type": "markdown",
   "source": [
    "#Pupil X and Y extents"
   ],
   "metadata": {
    "id": "vDHwvF6JokGD"
   }
  },
  {
   "cell_type": "code",
   "source": [
    "extents = lfe.extract_pupil_extents(label, label_dict)\n",
    "\n",
    "lfe.display_dot_on_pos(label, extents)"
   ],
   "metadata": {
    "id": "_uAl4Bcto4p3"
   },
   "execution_count": null,
   "outputs": []
  },
  {
   "cell_type": "markdown",
   "source": [
    "# Incision position"
   ],
   "metadata": {
    "id": "-SOoFS1ytSyU"
   }
  },
  {
   "cell_type": "code",
   "source": [
    "pos = lfe.extract_incision_position(label, label_dict)\n",
    "lfe.display_dot_on_pos(label, pos)"
   ],
   "metadata": {
    "id": "rDmhDhELt21R"
   },
   "execution_count": null,
   "outputs": []
  },
  {
   "cell_type": "code",
   "source": [
    "import pandas as pd\n",
    "\n",
    "DATA_LOC2 = \"/content/drive/MyDrive/Trajectories/datasets\"\n",
    "\n",
    "# expert comes from CataractCoach1\n",
    "expert = pd.read_csv(DATA_LOC2 + \"/manual_trajectories/expert.csv\")\n",
    "\n",
    "#\n",
    "pgy4 = pd.read_csv(DATA_LOC2 + \"/manual_trajectories/pgy4.csv\")\n",
    "\n",
    "#\n",
    "pgy2 = pd.read_csv(DATA_LOC2 + \"/manual_trajectories/pgy2.csv\")"
   ],
   "metadata": {
    "id": "Z88GJvqh_5UP"
   },
   "execution_count": null,
   "outputs": []
  },
  {
   "cell_type": "code",
   "source": [
    "expert.head()"
   ],
   "metadata": {
    "id": "DjhFFjH1AWiR"
   },
   "execution_count": null,
   "outputs": []
  },
  {
   "cell_type": "code",
   "source": [
    "pgy4.head()"
   ],
   "metadata": {
    "id": "-XnaXSFFAZ9n"
   },
   "execution_count": null,
   "outputs": []
  },
  {
   "cell_type": "code",
   "source": [
    "pgy2.head()"
   ],
   "metadata": {
    "id": "jswzZ1Z8AcRp"
   },
   "execution_count": null,
   "outputs": []
  }
 ]
}