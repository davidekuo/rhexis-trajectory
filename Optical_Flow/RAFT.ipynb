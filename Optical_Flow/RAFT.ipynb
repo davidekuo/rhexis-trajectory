{
 "cells": [
  {
   "cell_type": "code",
   "execution_count": null,
   "metadata": {
    "colab": {
     "background_save": true
    },
    "id": "J2Kp9uLhS-hg",
    "outputId": "0f0b50d6-c1ea-4328-eefe-afe00e5d51c8"
   },
   "outputs": [
    {
     "name": "stdout",
     "output_type": "stream",
     "text": [
      "Mounted at /content/drive\n"
     ]
    }
   ],
   "source": [
    "# Mount Google Drive\n",
    "from google.colab import drive\n",
    "\n",
    "drive.mount(\"/content/drive\")"
   ]
  },
  {
   "cell_type": "code",
   "execution_count": null,
   "metadata": {
    "colab": {
     "background_save": true
    },
    "id": "fYvIdks5TCKv"
   },
   "outputs": [],
   "source": [
    "# Set directory of motiongrouping raft directory (their implementation is easier to use than original Github repo)\n",
    "# and dataset location (images must be in JPEGImages subfolder; RAFT will save output to dataset folder)\n",
    "RAFT_LOC = \"/content/drive/MyDrive/Trajectories/rhexis-trajectory/Optical_Flow/raft\"\n",
    "DATASET_LOC = \"/content/drive/MyDrive/Trajectories/datasets/optical_flow/raft_data\"\n",
    "\n",
    "# Navigate to RAFT repo directory and confirm location\n",
    "%cd $RAFT_LOC\n",
    "%ls"
   ]
  },
  {
   "cell_type": "code",
   "execution_count": null,
   "metadata": {
    "id": "IH1D8y9FTUZe"
   },
   "outputs": [],
   "source": [
    "# Run RAFT inference\n",
    "!python run_inference.py $DATASET_LOC"
   ]
  },
  {
   "cell_type": "code",
   "execution_count": null,
   "metadata": {
    "id": "PZ2Eps08z-Md"
   },
   "outputs": [],
   "source": [
    ""
   ]
  }
 ],
 "metadata": {
  "accelerator": "GPU",
  "colab": {
   "collapsed_sections": [],
   "name": "RAFT.ipynb",
   "provenance": [],
   "authorship_tag": "ABX9TyOBTJY9/HzSOBsjO3AHe+Hx"
  },
  "kernelspec": {
   "display_name": "Python 3",
   "name": "python3"
  },
  "language_info": {
   "name": "python"
  }
 },
 "nbformat": 4,
 "nbformat_minor": 0
}